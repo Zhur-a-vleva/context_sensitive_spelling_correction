{
  "cells": [
    {
      "cell_type": "code",
      "execution_count": 1,
      "metadata": {
        "id": "MoQeEsZvHvvi",
        "ExecuteTime": {
          "end_time": "2024-03-22T19:08:16.603744500Z",
          "start_time": "2024-03-22T19:08:16.596201300Z"
        }
      },
      "outputs": [],
      "source": [
        "import pandas as pd\n",
        "import numpy as np\n",
        "from collections import defaultdict\n",
        "from tqdm import tqdm\n",
        "from functools import lru_cache"
      ]
    },
    {
      "cell_type": "code",
      "execution_count": 3,
      "outputs": [],
      "source": [
        "bigrams = pd.read_csv('data/bigrams.txt', sep='\\t', header=None, encoding='latin-1')"
      ],
      "metadata": {
        "ExecuteTime": {
          "end_time": "2024-03-22T19:09:15.478497900Z",
          "start_time": "2024-03-22T19:09:14.850874100Z"
        },
        "id": "L3H2aRsY7erZ"
      }
    },
    {
      "cell_type": "code",
      "source": [
        "bigrams.head()"
      ],
      "metadata": {
        "colab": {
          "base_uri": "https://localhost:8080/",
          "height": 206
        },
        "id": "0Y9-K0LPH-Nh",
        "outputId": "fffb5d14-33a6-4eb9-e62c-b3ae541063df"
      },
      "execution_count": 19,
      "outputs": [
        {
          "output_type": "execute_result",
          "data": {
            "text/plain": [
              "     0  1    2\n",
              "0  275  a    a\n",
              "1   31  a  aaa\n",
              "2   29  a  all\n",
              "3   45  a   an\n",
              "4  192  a  and"
            ],
            "text/html": [
              "\n",
              "  <div id=\"df-3a9f3efc-79f2-4473-9585-783fde0e0700\" class=\"colab-df-container\">\n",
              "    <div>\n",
              "<style scoped>\n",
              "    .dataframe tbody tr th:only-of-type {\n",
              "        vertical-align: middle;\n",
              "    }\n",
              "\n",
              "    .dataframe tbody tr th {\n",
              "        vertical-align: top;\n",
              "    }\n",
              "\n",
              "    .dataframe thead th {\n",
              "        text-align: right;\n",
              "    }\n",
              "</style>\n",
              "<table border=\"1\" class=\"dataframe\">\n",
              "  <thead>\n",
              "    <tr style=\"text-align: right;\">\n",
              "      <th></th>\n",
              "      <th>0</th>\n",
              "      <th>1</th>\n",
              "      <th>2</th>\n",
              "    </tr>\n",
              "  </thead>\n",
              "  <tbody>\n",
              "    <tr>\n",
              "      <th>0</th>\n",
              "      <td>275</td>\n",
              "      <td>a</td>\n",
              "      <td>a</td>\n",
              "    </tr>\n",
              "    <tr>\n",
              "      <th>1</th>\n",
              "      <td>31</td>\n",
              "      <td>a</td>\n",
              "      <td>aaa</td>\n",
              "    </tr>\n",
              "    <tr>\n",
              "      <th>2</th>\n",
              "      <td>29</td>\n",
              "      <td>a</td>\n",
              "      <td>all</td>\n",
              "    </tr>\n",
              "    <tr>\n",
              "      <th>3</th>\n",
              "      <td>45</td>\n",
              "      <td>a</td>\n",
              "      <td>an</td>\n",
              "    </tr>\n",
              "    <tr>\n",
              "      <th>4</th>\n",
              "      <td>192</td>\n",
              "      <td>a</td>\n",
              "      <td>and</td>\n",
              "    </tr>\n",
              "  </tbody>\n",
              "</table>\n",
              "</div>\n",
              "    <div class=\"colab-df-buttons\">\n",
              "\n",
              "  <div class=\"colab-df-container\">\n",
              "    <button class=\"colab-df-convert\" onclick=\"convertToInteractive('df-3a9f3efc-79f2-4473-9585-783fde0e0700')\"\n",
              "            title=\"Convert this dataframe to an interactive table.\"\n",
              "            style=\"display:none;\">\n",
              "\n",
              "  <svg xmlns=\"http://www.w3.org/2000/svg\" height=\"24px\" viewBox=\"0 -960 960 960\">\n",
              "    <path d=\"M120-120v-720h720v720H120Zm60-500h600v-160H180v160Zm220 220h160v-160H400v160Zm0 220h160v-160H400v160ZM180-400h160v-160H180v160Zm440 0h160v-160H620v160ZM180-180h160v-160H180v160Zm440 0h160v-160H620v160Z\"/>\n",
              "  </svg>\n",
              "    </button>\n",
              "\n",
              "  <style>\n",
              "    .colab-df-container {\n",
              "      display:flex;\n",
              "      gap: 12px;\n",
              "    }\n",
              "\n",
              "    .colab-df-convert {\n",
              "      background-color: #E8F0FE;\n",
              "      border: none;\n",
              "      border-radius: 50%;\n",
              "      cursor: pointer;\n",
              "      display: none;\n",
              "      fill: #1967D2;\n",
              "      height: 32px;\n",
              "      padding: 0 0 0 0;\n",
              "      width: 32px;\n",
              "    }\n",
              "\n",
              "    .colab-df-convert:hover {\n",
              "      background-color: #E2EBFA;\n",
              "      box-shadow: 0px 1px 2px rgba(60, 64, 67, 0.3), 0px 1px 3px 1px rgba(60, 64, 67, 0.15);\n",
              "      fill: #174EA6;\n",
              "    }\n",
              "\n",
              "    .colab-df-buttons div {\n",
              "      margin-bottom: 4px;\n",
              "    }\n",
              "\n",
              "    [theme=dark] .colab-df-convert {\n",
              "      background-color: #3B4455;\n",
              "      fill: #D2E3FC;\n",
              "    }\n",
              "\n",
              "    [theme=dark] .colab-df-convert:hover {\n",
              "      background-color: #434B5C;\n",
              "      box-shadow: 0px 1px 3px 1px rgba(0, 0, 0, 0.15);\n",
              "      filter: drop-shadow(0px 1px 2px rgba(0, 0, 0, 0.3));\n",
              "      fill: #FFFFFF;\n",
              "    }\n",
              "  </style>\n",
              "\n",
              "    <script>\n",
              "      const buttonEl =\n",
              "        document.querySelector('#df-3a9f3efc-79f2-4473-9585-783fde0e0700 button.colab-df-convert');\n",
              "      buttonEl.style.display =\n",
              "        google.colab.kernel.accessAllowed ? 'block' : 'none';\n",
              "\n",
              "      async function convertToInteractive(key) {\n",
              "        const element = document.querySelector('#df-3a9f3efc-79f2-4473-9585-783fde0e0700');\n",
              "        const dataTable =\n",
              "          await google.colab.kernel.invokeFunction('convertToInteractive',\n",
              "                                                    [key], {});\n",
              "        if (!dataTable) return;\n",
              "\n",
              "        const docLinkHtml = 'Like what you see? Visit the ' +\n",
              "          '<a target=\"_blank\" href=https://colab.research.google.com/notebooks/data_table.ipynb>data table notebook</a>'\n",
              "          + ' to learn more about interactive tables.';\n",
              "        element.innerHTML = '';\n",
              "        dataTable['output_type'] = 'display_data';\n",
              "        await google.colab.output.renderOutput(dataTable, element);\n",
              "        const docLink = document.createElement('div');\n",
              "        docLink.innerHTML = docLinkHtml;\n",
              "        element.appendChild(docLink);\n",
              "      }\n",
              "    </script>\n",
              "  </div>\n",
              "\n",
              "\n",
              "<div id=\"df-0d7cf8e0-b1f0-4436-a149-225a9c3025b1\">\n",
              "  <button class=\"colab-df-quickchart\" onclick=\"quickchart('df-0d7cf8e0-b1f0-4436-a149-225a9c3025b1')\"\n",
              "            title=\"Suggest charts\"\n",
              "            style=\"display:none;\">\n",
              "\n",
              "<svg xmlns=\"http://www.w3.org/2000/svg\" height=\"24px\"viewBox=\"0 0 24 24\"\n",
              "     width=\"24px\">\n",
              "    <g>\n",
              "        <path d=\"M19 3H5c-1.1 0-2 .9-2 2v14c0 1.1.9 2 2 2h14c1.1 0 2-.9 2-2V5c0-1.1-.9-2-2-2zM9 17H7v-7h2v7zm4 0h-2V7h2v10zm4 0h-2v-4h2v4z\"/>\n",
              "    </g>\n",
              "</svg>\n",
              "  </button>\n",
              "\n",
              "<style>\n",
              "  .colab-df-quickchart {\n",
              "      --bg-color: #E8F0FE;\n",
              "      --fill-color: #1967D2;\n",
              "      --hover-bg-color: #E2EBFA;\n",
              "      --hover-fill-color: #174EA6;\n",
              "      --disabled-fill-color: #AAA;\n",
              "      --disabled-bg-color: #DDD;\n",
              "  }\n",
              "\n",
              "  [theme=dark] .colab-df-quickchart {\n",
              "      --bg-color: #3B4455;\n",
              "      --fill-color: #D2E3FC;\n",
              "      --hover-bg-color: #434B5C;\n",
              "      --hover-fill-color: #FFFFFF;\n",
              "      --disabled-bg-color: #3B4455;\n",
              "      --disabled-fill-color: #666;\n",
              "  }\n",
              "\n",
              "  .colab-df-quickchart {\n",
              "    background-color: var(--bg-color);\n",
              "    border: none;\n",
              "    border-radius: 50%;\n",
              "    cursor: pointer;\n",
              "    display: none;\n",
              "    fill: var(--fill-color);\n",
              "    height: 32px;\n",
              "    padding: 0;\n",
              "    width: 32px;\n",
              "  }\n",
              "\n",
              "  .colab-df-quickchart:hover {\n",
              "    background-color: var(--hover-bg-color);\n",
              "    box-shadow: 0 1px 2px rgba(60, 64, 67, 0.3), 0 1px 3px 1px rgba(60, 64, 67, 0.15);\n",
              "    fill: var(--button-hover-fill-color);\n",
              "  }\n",
              "\n",
              "  .colab-df-quickchart-complete:disabled,\n",
              "  .colab-df-quickchart-complete:disabled:hover {\n",
              "    background-color: var(--disabled-bg-color);\n",
              "    fill: var(--disabled-fill-color);\n",
              "    box-shadow: none;\n",
              "  }\n",
              "\n",
              "  .colab-df-spinner {\n",
              "    border: 2px solid var(--fill-color);\n",
              "    border-color: transparent;\n",
              "    border-bottom-color: var(--fill-color);\n",
              "    animation:\n",
              "      spin 1s steps(1) infinite;\n",
              "  }\n",
              "\n",
              "  @keyframes spin {\n",
              "    0% {\n",
              "      border-color: transparent;\n",
              "      border-bottom-color: var(--fill-color);\n",
              "      border-left-color: var(--fill-color);\n",
              "    }\n",
              "    20% {\n",
              "      border-color: transparent;\n",
              "      border-left-color: var(--fill-color);\n",
              "      border-top-color: var(--fill-color);\n",
              "    }\n",
              "    30% {\n",
              "      border-color: transparent;\n",
              "      border-left-color: var(--fill-color);\n",
              "      border-top-color: var(--fill-color);\n",
              "      border-right-color: var(--fill-color);\n",
              "    }\n",
              "    40% {\n",
              "      border-color: transparent;\n",
              "      border-right-color: var(--fill-color);\n",
              "      border-top-color: var(--fill-color);\n",
              "    }\n",
              "    60% {\n",
              "      border-color: transparent;\n",
              "      border-right-color: var(--fill-color);\n",
              "    }\n",
              "    80% {\n",
              "      border-color: transparent;\n",
              "      border-right-color: var(--fill-color);\n",
              "      border-bottom-color: var(--fill-color);\n",
              "    }\n",
              "    90% {\n",
              "      border-color: transparent;\n",
              "      border-bottom-color: var(--fill-color);\n",
              "    }\n",
              "  }\n",
              "</style>\n",
              "\n",
              "  <script>\n",
              "    async function quickchart(key) {\n",
              "      const quickchartButtonEl =\n",
              "        document.querySelector('#' + key + ' button');\n",
              "      quickchartButtonEl.disabled = true;  // To prevent multiple clicks.\n",
              "      quickchartButtonEl.classList.add('colab-df-spinner');\n",
              "      try {\n",
              "        const charts = await google.colab.kernel.invokeFunction(\n",
              "            'suggestCharts', [key], {});\n",
              "      } catch (error) {\n",
              "        console.error('Error during call to suggestCharts:', error);\n",
              "      }\n",
              "      quickchartButtonEl.classList.remove('colab-df-spinner');\n",
              "      quickchartButtonEl.classList.add('colab-df-quickchart-complete');\n",
              "    }\n",
              "    (() => {\n",
              "      let quickchartButtonEl =\n",
              "        document.querySelector('#df-0d7cf8e0-b1f0-4436-a149-225a9c3025b1 button');\n",
              "      quickchartButtonEl.style.display =\n",
              "        google.colab.kernel.accessAllowed ? 'block' : 'none';\n",
              "    })();\n",
              "  </script>\n",
              "</div>\n",
              "\n",
              "    </div>\n",
              "  </div>\n"
            ],
            "application/vnd.google.colaboratory.intrinsic+json": {
              "type": "dataframe",
              "variable_name": "bigrams"
            }
          },
          "metadata": {},
          "execution_count": 19
        }
      ]
    },
    {
      "cell_type": "markdown",
      "source": [
        "### Create a dictionary of bigrams"
      ],
      "metadata": {
        "collapsed": false,
        "id": "Ok0RmXxO7era"
      }
    },
    {
      "cell_type": "code",
      "execution_count": 20,
      "outputs": [],
      "source": [
        "bigram_counts = defaultdict(int, {(row[1], row[2]): int(row[0]) for row in bigrams.itertuples(index=False)})"
      ],
      "metadata": {
        "ExecuteTime": {
          "end_time": "2024-03-22T19:09:22.644317700Z",
          "start_time": "2024-03-22T19:09:20.381691400Z"
        },
        "id": "dAQ2RWwL7era"
      }
    },
    {
      "cell_type": "code",
      "execution_count": 29,
      "outputs": [],
      "source": [
        "# Convert to dictionary of word: count\n",
        "vocabulary = defaultdict(int)\n",
        "for (word1, word2), count in bigram_counts.items():\n",
        "    vocabulary[word1] += count\n",
        "    vocabulary[word2] += count\n",
        "vocabulary_total = sum(vocabulary.values())"
      ],
      "metadata": {
        "ExecuteTime": {
          "end_time": "2024-03-22T19:09:24.128007700Z",
          "start_time": "2024-03-22T19:09:22.771057Z"
        },
        "id": "DGA_FFJ87era"
      }
    },
    {
      "cell_type": "markdown",
      "source": [
        "### Checker for known words"
      ],
      "metadata": {
        "collapsed": false,
        "id": "JjHSYI1O7erb"
      }
    },
    {
      "cell_type": "code",
      "execution_count": 30,
      "outputs": [],
      "source": [
        "def known(words):\n",
        "    \"\"\"\n",
        "    Method to get all known words from the input list of words\n",
        "    :param words: list of str\n",
        "    :return: set of str\n",
        "    \"\"\"\n",
        "    return set(w for w in words if vocabulary[w] > 0)"
      ],
      "metadata": {
        "ExecuteTime": {
          "end_time": "2024-03-22T19:09:24.128007700Z",
          "start_time": "2024-03-22T19:09:24.120431300Z"
        },
        "id": "7qfsmpZi7erb"
      }
    },
    {
      "cell_type": "markdown",
      "source": [
        "### Get all words at a given Levenshtein distance"
      ],
      "metadata": {
        "collapsed": false,
        "id": "89ILNbYi7erb"
      }
    },
    {
      "cell_type": "code",
      "execution_count": 31,
      "outputs": [],
      "source": [
        "@lru_cache(maxsize=None)\n",
        "def get_words_at_levenshtein_distance(word, distance):\n",
        "    \"\"\"\n",
        "    Method to get all words at a given Levenshtein distance from the input word\n",
        "    :param word: str\n",
        "    :param distance: int\n",
        "    :return: set of str\n",
        "    \"\"\"\n",
        "    if distance == 0:\n",
        "        return {word}\n",
        "\n",
        "    letters = 'abcdefghijklmnopqrstuvwxyz'\n",
        "\n",
        "    if distance == 1:\n",
        "        parts = [(word[:i], word[i:]) for i in range(len(word) + 1)]\n",
        "        edits = (\n",
        "            [a + b[1:] for a, b in parts if b] +  # Deletions\n",
        "            [a + b[1] + b[0] + b[2:] for a, b in parts if len(b) > 1] +  # Transpositions\n",
        "            [a + c + b[1:] for a, b in parts if b for c in letters] +  # Replacements\n",
        "            [a + c + b for a, b in parts for c in letters]  # Insertions\n",
        "        )\n",
        "        return set(edits)\n",
        "\n",
        "    candidates = set()\n",
        "    for w in get_words_at_levenshtein_distance(word, distance - 1):\n",
        "        candidates.update(get_words_at_levenshtein_distance(w, 1))\n",
        "\n",
        "    return candidates"
      ],
      "metadata": {
        "ExecuteTime": {
          "end_time": "2024-03-22T19:09:24.197872900Z",
          "start_time": "2024-03-22T19:09:24.162630Z"
        },
        "id": "FWoVN_ad7erb"
      }
    },
    {
      "cell_type": "code",
      "execution_count": 32,
      "outputs": [
        {
          "output_type": "execute_result",
          "data": {
            "text/plain": [
              "{'deng',\n",
              " 'feng',\n",
              " 'kang',\n",
              " 'keg',\n",
              " 'ken',\n",
              " 'kent',\n",
              " 'king',\n",
              " 'kong',\n",
              " 'kung',\n",
              " 'peng',\n",
              " 'seng'}"
            ]
          },
          "metadata": {},
          "execution_count": 32
        }
      ],
      "source": [
        "known(get_words_at_levenshtein_distance('keng', 1))"
      ],
      "metadata": {
        "ExecuteTime": {
          "end_time": "2024-03-22T19:09:25.154139500Z",
          "start_time": "2024-03-22T19:09:25.092256200Z"
        },
        "id": "pkYPKXm67erc",
        "outputId": "e576d60d-5db1-4c82-aae3-63d04fb7d898",
        "colab": {
          "base_uri": "https://localhost:8080/"
        }
      }
    },
    {
      "cell_type": "markdown",
      "source": [
        "### Set of candidates for a given word"
      ],
      "metadata": {
        "collapsed": false,
        "id": "MIaBubM67erc"
      }
    },
    {
      "cell_type": "code",
      "execution_count": 33,
      "outputs": [],
      "source": [
        "def find_candidates(word, max_distance=1):\n",
        "    \"\"\"\n",
        "    Find candidate words within the given Levenshtein distance.\n",
        "\n",
        "    :param word: str, the input word\n",
        "    :param max_distance: int, maximum allowed Levenshtein distance (default is 1)\n",
        "    :return: set of candidate words\n",
        "    \"\"\"\n",
        "    possible_words = known([word])\n",
        "\n",
        "    for dist in range(1, max_distance + 1):\n",
        "        if possible_words:\n",
        "            break\n",
        "        possible_words.update(known(get_words_at_levenshtein_distance(word, dist)))\n",
        "\n",
        "    return possible_words if possible_words else {word}"
      ],
      "metadata": {
        "ExecuteTime": {
          "end_time": "2024-03-22T19:09:25.155188600Z",
          "start_time": "2024-03-22T19:09:25.101808200Z"
        },
        "id": "mXlgpoSD7erc"
      }
    },
    {
      "cell_type": "code",
      "execution_count": 34,
      "outputs": [
        {
          "output_type": "execute_result",
          "data": {
            "text/plain": [
              "{'deng',\n",
              " 'feng',\n",
              " 'kang',\n",
              " 'keg',\n",
              " 'ken',\n",
              " 'kent',\n",
              " 'king',\n",
              " 'kong',\n",
              " 'kung',\n",
              " 'peng',\n",
              " 'seng'}"
            ]
          },
          "metadata": {},
          "execution_count": 34
        }
      ],
      "source": [
        "find_candidates('keng')"
      ],
      "metadata": {
        "ExecuteTime": {
          "end_time": "2024-03-22T19:09:26.126507400Z",
          "start_time": "2024-03-22T19:09:26.105798600Z"
        },
        "id": "DuZAUhiq7erc",
        "outputId": "053a4c3d-2bed-4832-fa4b-9dc3286afd73",
        "colab": {
          "base_uri": "https://localhost:8080/"
        }
      }
    },
    {
      "cell_type": "markdown",
      "source": [
        "### Now we can get suggestions for a unigram and bigram"
      ],
      "metadata": {
        "collapsed": false,
        "id": "9R3AE7FR7erd"
      }
    },
    {
      "cell_type": "code",
      "source": [
        "def unigram_suggestions(word, edit_distance):\n",
        "    \"\"\"\n",
        "    Method to get suggestions for the input word\n",
        "    :param word: 1 word\n",
        "    :param edit_distance: int\n",
        "    :return: suggestion\n",
        "    \"\"\"\n",
        "    candidates = find_candidates(word, edit_distance)\n",
        "\n",
        "    suggestions = []\n",
        "    for word in candidates:\n",
        "        prob = vocabulary[word] / vocabulary_total\n",
        "        if prob > 0:\n",
        "            suggestions.append((word, prob))\n",
        "\n",
        "    return sorted(suggestions, key=lambda x: x[1], reverse=True)"
      ],
      "metadata": {
        "id": "8OgsdQZUJTj8"
      },
      "execution_count": 35,
      "outputs": []
    },
    {
      "cell_type": "code",
      "execution_count": 36,
      "outputs": [],
      "source": [
        "def suggest_bigrams(bigram, distance=1, modify_left=True):\n",
        "    \"\"\"\n",
        "    Generate bigram suggestions based on word candidates and their probabilities.\n",
        "\n",
        "    :param bigram: tuple of two words (word1, word2)\n",
        "    :param distance: int, maximum allowed Levenshtein distance\n",
        "    :param modify_left: bool, whether to modify the left word or right word in the bigram\n",
        "    :return: list of tuples with bigram suggestions and their probabilities\n",
        "    \"\"\"\n",
        "    target_word = bigram[0] if modify_left else bigram[1]\n",
        "    word_options = find_candidates(target_word, distance)\n",
        "\n",
        "    candidate_bigrams = {(w, bigram[1]) if modify_left else (bigram[0], w) for w in word_options}\n",
        "\n",
        "    suggestions = [\n",
        "        (candidate, bigram_counts[candidate] / vocabulary[candidate[0]] if vocabulary[candidate[0]] > 0 else 0)\n",
        "        for candidate in candidate_bigrams if bigram_counts.get(candidate, 0) > 0\n",
        "    ]\n",
        "\n",
        "    return sorted(suggestions, key=lambda x: x[1], reverse=True)"
      ],
      "metadata": {
        "ExecuteTime": {
          "end_time": "2024-03-22T19:09:29.366667600Z",
          "start_time": "2024-03-22T19:09:29.356861800Z"
        },
        "id": "YsQHpQpo7erd"
      }
    },
    {
      "cell_type": "code",
      "execution_count": 38,
      "outputs": [
        {
          "output_type": "execute_result",
          "data": {
            "text/plain": [
              "[(('a', 'king'), 7.129329346254444e-05),\n",
              " (('a', 'keg'), 5.75227062167229e-06),\n",
              " (('a', 'ken'), 2.091734771517196e-06),\n",
              " (('a', 'kung'), 1.9174235405574297e-06),\n",
              " (('a', 'feng'), 1.6269048222911527e-06)]"
            ]
          },
          "metadata": {},
          "execution_count": 38
        }
      ],
      "source": [
        "suggest_bigrams(('a', 'keng'), 1, modify_left=False)"
      ],
      "metadata": {
        "ExecuteTime": {
          "end_time": "2024-03-22T19:09:30.028197200Z",
          "start_time": "2024-03-22T19:09:30.015831400Z"
        },
        "id": "wEsYp76W7erd",
        "outputId": "16cc09d5-e1f5-4e94-9c56-566a698f6a72",
        "colab": {
          "base_uri": "https://localhost:8080/"
        }
      }
    },
    {
      "cell_type": "markdown",
      "source": [
        "### Autocorrect method"
      ],
      "metadata": {
        "collapsed": false,
        "id": "5miT-dfq7erd"
      }
    },
    {
      "cell_type": "code",
      "execution_count": 39,
      "outputs": [],
      "source": [
        "def correct_sentence(sentence, max_distance=1):\n",
        "    \"\"\"\n",
        "    Corrects the input sentence by checking bigram and unigram suggestions.\n",
        "\n",
        "    :param sentence: str, the sentence to autocorrect\n",
        "    :param max_distance: int, maximum allowed Levenshtein distance (default is 1)\n",
        "    :return: str, corrected sentence\n",
        "    \"\"\"\n",
        "    words = sentence.split()\n",
        "\n",
        "    if not words:\n",
        "        return \"\"\n",
        "\n",
        "    corrected_words = []\n",
        "\n",
        "    for i, word in enumerate(words):\n",
        "        # Get bigram suggestions for both directions (left and right)\n",
        "        left_suggestions = suggest_bigrams((words[i], words[i + 1]), max_distance, modify_left=True) if i < len(words) - 1 else []\n",
        "        left_suggestions = [(w, prob) for (w, _), prob in left_suggestions]\n",
        "\n",
        "        right_suggestions = suggest_bigrams((words[i - 1], words[i]), max_distance, modify_left=False) if i > 0 else []\n",
        "        right_suggestions = [(w, prob) for (_, w), prob in right_suggestions]\n",
        "\n",
        "        # Combine all suggestions from bigrams\n",
        "        suggestions = left_suggestions + right_suggestions\n",
        "\n",
        "        # If no bigram suggestions, check for unigram suggestions\n",
        "        if not suggestions and not known([word]):\n",
        "            suggestions = unigram_suggestions(word, max_distance)\n",
        "\n",
        "        # If still no suggestions, leave the word as is\n",
        "        if not suggestions:\n",
        "            corrected_words.append(word)\n",
        "            continue\n",
        "\n",
        "        # Sum the probabilities for each suggestion and pick the one with max probability\n",
        "        word_probs = defaultdict(float)\n",
        "        for suggestion, prob in suggestions:\n",
        "            word_probs[suggestion] += prob\n",
        "\n",
        "        # Choose the word with the highest probability\n",
        "        corrected_words.append(max(word_probs, key=word_probs.get) if word_probs else word)\n",
        "\n",
        "    return \" \".join(corrected_words)"
      ],
      "metadata": {
        "ExecuteTime": {
          "end_time": "2024-03-22T19:09:31.150405400Z",
          "start_time": "2024-03-22T19:09:31.145346600Z"
        },
        "id": "FdDh6s8S7erd"
      }
    },
    {
      "cell_type": "code",
      "execution_count": 40,
      "outputs": [
        {
          "output_type": "execute_result",
          "data": {
            "text/plain": [
              "'he would like to go to the park but there was an accident on the way'"
            ],
            "application/vnd.google.colaboratory.intrinsic+json": {
              "type": "string"
            }
          },
          "metadata": {},
          "execution_count": 40
        }
      ],
      "source": [
        "correct_sentence('Me wold like to go to the park but thera wus an acident on the way')"
      ],
      "metadata": {
        "ExecuteTime": {
          "end_time": "2024-03-22T19:09:31.843701100Z",
          "start_time": "2024-03-22T19:09:31.830530700Z"
        },
        "id": "rNoa95sL7erd",
        "outputId": "a9fc19bd-44d1-477f-9f3d-e338d5eef48f",
        "colab": {
          "base_uri": "https://localhost:8080/",
          "height": 35
        }
      }
    },
    {
      "cell_type": "markdown",
      "source": [
        "### Norvig's solution"
      ],
      "metadata": {
        "collapsed": false,
        "id": "ZSKny4lP7ere"
      }
    },
    {
      "cell_type": "code",
      "execution_count": 41,
      "outputs": [],
      "source": [
        "def norvig_correction(word: str, edit_distance: int = 1) -> str:\n",
        "    candidates = find_candidates(word, edit_distance)\n",
        "    # choose the best candidate\n",
        "    return max(candidates, key=vocabulary.get)\n",
        "\n",
        "\n",
        "def norvig_autocorrect(sentence: str, edit_distance: int = 1) -> str:\n",
        "    sentence_corrected = []\n",
        "\n",
        "    for word in sentence.split():\n",
        "        sentence_corrected.append(norvig_correction(word, edit_distance))\n",
        "\n",
        "    return \" \".join(sentence_corrected)"
      ],
      "metadata": {
        "ExecuteTime": {
          "end_time": "2024-03-22T19:09:31.857789200Z",
          "start_time": "2024-03-22T19:09:31.849288400Z"
        },
        "id": "HWya-dAP7ere"
      }
    },
    {
      "cell_type": "code",
      "execution_count": 42,
      "outputs": [
        {
          "output_type": "execute_result",
          "data": {
            "text/plain": [
              "'he would like to go to the park but there was an accident on the way'"
            ],
            "application/vnd.google.colaboratory.intrinsic+json": {
              "type": "string"
            }
          },
          "metadata": {},
          "execution_count": 42
        }
      ],
      "source": [
        "norvig_autocorrect('Me wold like to go to the park but thera wus an acident on the way')"
      ],
      "metadata": {
        "ExecuteTime": {
          "end_time": "2024-03-22T19:09:33.137910300Z",
          "start_time": "2024-03-22T19:09:33.132063100Z"
        },
        "id": "3OGE0vwf7ere",
        "outputId": "0cafb47a-f12d-42ef-d079-4fc00559bff6",
        "colab": {
          "base_uri": "https://localhost:8080/",
          "height": 35
        }
      }
    },
    {
      "cell_type": "markdown",
      "metadata": {
        "id": "46rk65S4GRSe"
      },
      "source": [
        "## Evaluate on a test set"
      ]
    },
    {
      "cell_type": "code",
      "execution_count": 43,
      "metadata": {
        "id": "OwZWaX9VVs7B",
        "ExecuteTime": {
          "end_time": "2024-03-22T19:33:31.674323100Z",
          "start_time": "2024-03-22T19:33:31.666368400Z"
        }
      },
      "outputs": [],
      "source": [
        "with open('data/TwelfthNight.txt', 'r') as file:\n",
        "    test_set = file.readlines()"
      ]
    },
    {
      "cell_type": "code",
      "execution_count": 44,
      "outputs": [
        {
          "output_type": "execute_result",
          "data": {
            "text/plain": [
              "['\\n',\n",
              " 'Twelfth Night\\n',\n",
              " '\\n',\n",
              " 'ACT I\\n',\n",
              " \"SCENE I. DUKE ORSINO's palace.\\n\",\n",
              " 'Enter DUKE ORSINO, CURIO, and other Lords; Musicians attending\\n',\n",
              " 'DUKE ORSINO\\n',\n",
              " 'If music be the food of love, play on;\\n',\n",
              " 'Give me excess of it, that, surfeiting,\\n',\n",
              " 'The appetite may sicken, and so die.\\n']"
            ]
          },
          "metadata": {},
          "execution_count": 44
        }
      ],
      "source": [
        "test_set[:10]"
      ],
      "metadata": {
        "ExecuteTime": {
          "end_time": "2024-03-22T19:33:51.806969Z",
          "start_time": "2024-03-22T19:33:51.788996600Z"
        },
        "id": "RP0ihuc57erf",
        "outputId": "d2a76af8-6c97-4f92-c766-991a463213d0",
        "colab": {
          "base_uri": "https://localhost:8080/"
        }
      }
    },
    {
      "cell_type": "code",
      "execution_count": 45,
      "outputs": [],
      "source": [
        "# add noise to words (change or delete some letters\n",
        "def inject_noise(text, noise_probability):\n",
        "    \"\"\"\n",
        "    Add random noise to the given text based on a specified probability.\n",
        "\n",
        "    :param text: list of str, the lines of text to add noise to\n",
        "    :param noise_probability: float, the probability of altering each word\n",
        "    :return: list of str, the text with noise added\n",
        "    \"\"\"\n",
        "    def alter_word(word):\n",
        "        if np.random.rand() < noise_probability:\n",
        "            idx = np.random.randint(len(word))\n",
        "            replacement = np.random.choice([c for c in 'abcdefghijklmnopqrstuvwxyz' if c != word[idx]])\n",
        "            return word[:idx] + replacement + word[idx + 1:]\n",
        "        return word\n",
        "\n",
        "    return [' '.join(alter_word(word) for word in line.split()) for line in text]"
      ],
      "metadata": {
        "ExecuteTime": {
          "end_time": "2024-03-22T19:35:31.638487200Z",
          "start_time": "2024-03-22T19:35:31.528091900Z"
        },
        "id": "53JpUa5e7erg"
      }
    },
    {
      "cell_type": "code",
      "execution_count": 46,
      "outputs": [
        {
          "output_type": "execute_result",
          "data": {
            "text/plain": [
              "['',\n",
              " 'Twelfth Night',\n",
              " '',\n",
              " 'ACT I',\n",
              " \"SCENE I. DUKE ORSINO's palace.\",\n",
              " 'Enter DUKE ORSINO, CURIO, and other Lords; Musicians attending',\n",
              " 'DUKE ORSINO',\n",
              " 'If music be the food of love, play on;',\n",
              " 'Give me excess of it, that, surfeiting,',\n",
              " 'The appetite may sicken, and so die.']"
            ]
          },
          "metadata": {},
          "execution_count": 46
        }
      ],
      "source": [
        "noised_text = inject_noise(test_set, 0.1)\n",
        "noised_text[:10]"
      ],
      "metadata": {
        "ExecuteTime": {
          "end_time": "2024-03-22T19:35:33.281733Z",
          "start_time": "2024-03-22T19:35:33.140948200Z"
        },
        "id": "2hU3kB627erg",
        "outputId": "8d30ed0c-8a2f-44af-b9a1-26834dfd5abb",
        "colab": {
          "base_uri": "https://localhost:8080/"
        }
      }
    },
    {
      "cell_type": "code",
      "execution_count": 47,
      "outputs": [
        {
          "output_type": "stream",
          "name": "stderr",
          "text": [
            "100%|██████████| 3697/3697 [00:03<00:00, 999.93it/s]\n"
          ]
        },
        {
          "output_type": "execute_result",
          "data": {
            "text/plain": [
              "0.6816987329892069"
            ]
          },
          "metadata": {},
          "execution_count": 47
        }
      ],
      "source": [
        "# evaluate the accuracy of the autocorrect method\n",
        "def autocorrect_text(text, method):\n",
        "    \"\"\"\n",
        "    Apply the specified autocorrect method to each line of the input text.\n",
        "\n",
        "    :param text: list of str, the lines of text to correct\n",
        "    :param method: function, the autocorrect method to use\n",
        "    :return: list of str, the corrected text\n",
        "    \"\"\"\n",
        "    return [method(line) for line in tqdm(text)]\n",
        "\n",
        "def calculate_accuracy(corrected, original):\n",
        "    \"\"\"\n",
        "    Evaluate the accuracy of the corrected text against the original text.\n",
        "\n",
        "    :param corrected: list of str, the autocorrected text\n",
        "    :param original: list of str, the original text\n",
        "    :return: float, the accuracy as a ratio of correct words\n",
        "    \"\"\"\n",
        "    total_correct = total_words = 0\n",
        "\n",
        "    for corrected_line, original_line in zip(corrected, original):\n",
        "        corrected_words = corrected_line.split() if isinstance(corrected_line, str) else corrected_line\n",
        "        original_words = original_line.split()\n",
        "\n",
        "        for c_word, o_word in zip(corrected_words, original_words):\n",
        "            total_correct += c_word == o_word\n",
        "            total_words += 1\n",
        "\n",
        "    return total_correct / total_words if total_words > 0 else 0\n",
        "\n",
        "corrected_text = autocorrect_text(noised_text, correct_sentence)\n",
        "# change cirrected text to string\n",
        "corrected_text = [line for line in corrected_text]\n",
        "\n",
        "accuracy = calculate_accuracy(corrected_text, test_set)\n",
        "accuracy"
      ],
      "metadata": {
        "ExecuteTime": {
          "end_time": "2024-03-22T19:43:21.790356900Z",
          "start_time": "2024-03-22T19:43:20.391927200Z"
        },
        "id": "1voEIxCN7erg",
        "outputId": "d17dff4b-61ae-4ca8-bb23-6593212f09b8",
        "colab": {
          "base_uri": "https://localhost:8080/"
        }
      }
    },
    {
      "cell_type": "code",
      "execution_count": 48,
      "outputs": [
        {
          "output_type": "stream",
          "name": "stderr",
          "text": [
            "100%|██████████| 3697/3697 [00:01<00:00, 3349.59it/s]\n"
          ]
        },
        {
          "output_type": "execute_result",
          "data": {
            "text/plain": [
              "0.6809948381041765"
            ]
          },
          "metadata": {},
          "execution_count": 48
        }
      ],
      "source": [
        "def correct_norvig_text(text):\n",
        "    \"\"\"\n",
        "    Apply Norvig's autocorrection to each line of the input text.\n",
        "\n",
        "    :param text: list of str, the lines of text to correct\n",
        "    :return: list of str, the corrected text\n",
        "    \"\"\"\n",
        "    return [norvig_autocorrect(line) for line in tqdm(text)]\n",
        "\n",
        "norvig_corrected_text = correct_norvig_text(noised_text)\n",
        "# change corrected text to string\n",
        "norvig_corrected_text = [line for line in norvig_corrected_text]\n",
        "\n",
        "norvig_accuracy = calculate_accuracy(norvig_corrected_text, test_set)\n",
        "norvig_accuracy"
      ],
      "metadata": {
        "ExecuteTime": {
          "end_time": "2024-03-22T19:43:24.184970700Z",
          "start_time": "2024-03-22T19:43:23.183841200Z"
        },
        "id": "F22tgOXJ7erh",
        "outputId": "64aa6c85-b217-4064-cf68-18340285ff9e",
        "colab": {
          "base_uri": "https://localhost:8080/"
        }
      }
    },
    {
      "cell_type": "markdown",
      "source": [
        "# Conclusion\n",
        "The difference is obsolete between the two methods, as both have different accuracy .681 and .680.\n",
        "\n",
        "I think the difference is not much, because of Shakespeare's text of Twelfth Night, which is quite old and has a lot of words that are not used today. This makes it hard for both methods to correct the text, as they are not trained on such old text (so bigrams).\n",
        "\n",
        "Still results of my solution are better due to a more complex approach I propose."
      ],
      "metadata": {
        "collapsed": false,
        "id": "k22Lpmoe7erh"
      }
    }
  ],
  "metadata": {
    "colab": {
      "provenance": []
    },
    "kernelspec": {
      "name": "python3",
      "language": "python",
      "display_name": "Python 3 (ipykernel)"
    },
    "language_info": {
      "name": "python"
    }
  },
  "nbformat": 4,
  "nbformat_minor": 0
}